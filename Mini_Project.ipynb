{
  "nbformat": 4,
  "nbformat_minor": 0,
  "metadata": {
    "colab": {
      "provenance": [],
      "authorship_tag": "ABX9TyNjbLK9AgxrsqJHp/mN4ByW"
    },
    "kernelspec": {
      "name": "python3",
      "display_name": "Python 3"
    },
    "language_info": {
      "name": "python"
    },
    "accelerator": "TPU"
  },
  "cells": [
    {
      "cell_type": "markdown",
      "source": [
        "# Load dataset"
      ],
      "metadata": {
        "id": "ue63O7fHNNya"
      }
    },
    {
      "cell_type": "code",
      "execution_count": null,
      "metadata": {
        "id": "zdhkLjf210Kg",
        "colab": {
          "base_uri": "https://localhost:8080/"
        },
        "outputId": "b4e6eb55-24d1-4dea-eaa6-6bef389b416e"
      },
      "outputs": [
        {
          "output_type": "stream",
          "name": "stdout",
          "text": [
            "Drive already mounted at /content/drive; to attempt to forcibly remount, call drive.mount(\"/content/drive\", force_remount=True).\n"
          ]
        }
      ],
      "source": [
        "from google.colab import drive\n",
        "drive.mount('/content/drive')"
      ]
    },
    {
      "cell_type": "code",
      "source": [
        "import numpy as np\n",
        "import os\n",
        "import gzip\n",
        "\n",
        "# Loads the gzipped binary IDX format using numpy and the gzip library\n",
        "def load_mnist(path, kind='train'):\n",
        "    \"\"\"Load EMNIST data from `path`\"\"\"\n",
        "    labels_path = os.path.join(path, f'{kind}-labels-idx1-ubyte.gz')\n",
        "    images_path = os.path.join(path, f'{kind}-images-idx3-ubyte.gz')\n",
        "\n",
        "    with gzip.open(labels_path, 'rb') as lbpath:\n",
        "        labels = np.frombuffer(lbpath.read(), dtype=np.uint8, offset=8)\n",
        "\n",
        "    with gzip.open(images_path, 'rb') as imgpath:\n",
        "        images = np.frombuffer(imgpath.read(), dtype=np.uint8, offset=16).reshape(len(labels), 784)\n",
        "\n",
        "    return images, labels\n",
        "\n",
        "# Load dataset\n",
        "X_train_full, y_train_full = load_mnist('/content/drive/My Drive/EMNIST/', kind='emnist-balanced-train')\n",
        "X_test_full, y_test_full = load_mnist('/content/drive/My Drive/EMNIST/', kind='emnist-balanced-test')\n",
        "\n",
        "# Print shapes of train & test set\n",
        "print(\"X_train_full shape:\")\n",
        "print(X_train_full.shape)\n",
        "print(\"y_train_full shape:\")\n",
        "print(y_train_full.shape)\n",
        "\n",
        "print(\"X_test_full shape:\")\n",
        "print(X_test_full.shape)\n",
        "print(\"y_test_full shape:\")\n",
        "print(y_test_full.shape)"
      ],
      "metadata": {
        "colab": {
          "base_uri": "https://localhost:8080/"
        },
        "id": "ixHOII15x-aV",
        "outputId": "ccc9a19c-8621-4c82-8a5f-30512cdffee4"
      },
      "execution_count": null,
      "outputs": [
        {
          "output_type": "stream",
          "name": "stdout",
          "text": [
            "X_train_full shape:\n",
            "(112800, 784)\n",
            "y_train_full shape:\n",
            "(112800,)\n",
            "X_test_full shape:\n",
            "(18800, 784)\n",
            "y_test_full shape:\n",
            "(18800,)\n"
          ]
        }
      ]
    },
    {
      "cell_type": "markdown",
      "source": [
        "# Data preparation"
      ],
      "metadata": {
        "id": "lCVU8vf6NXI-"
      }
    },
    {
      "cell_type": "code",
      "source": [
        "# Reshape from a flattened version to 2D form\n",
        "X_train = X_train_full.reshape((-1, 28, 28))\n",
        "X_test = X_test_full.reshape((-1, 28, 28))\n",
        "\n",
        "# Rotate 90 degrees counter clockwise\n",
        "X_train = np.rot90(X_train, axes=(1, 2), k=-1)\n",
        "X_test = np.rot90(X_test, axes=(1, 2), k=-1)\n",
        "\n",
        "# Flip the images along the vertical axis\n",
        "X_train = np.flip(X_train, axis=2)\n",
        "X_test = np.flip(X_test, axis=2)\n",
        "\n",
        "### Scheduled for removal ###\n",
        "# Take a subset of the training data as validation data\n",
        "#X_valid, X_train = X_train[:5000], X_train[5000:]\n",
        "#y_valid, y_train = y_train_full[:5000], y_train_full[5000:]\n",
        "#############################\n",
        "\n",
        "# Take a random subset of the training data as validation data\n",
        "indices = np.random.choice(len(X_train), 5000, replace=False)\n",
        "\n",
        "X_valid = X_train[indices]\n",
        "X_train = np.delete(X_train, indices, axis=0)\n",
        "\n",
        "y_valid = y_train_full[indices]\n",
        "y_train = np.delete(y_train_full, indices, axis=0)\n",
        "\n",
        "# Print shapes of train & valid set\n",
        "print(\"X_train shape:\")\n",
        "print(X_train.shape)\n",
        "print(\"y_train shape:\")\n",
        "print(y_train.shape)\n",
        "\n",
        "print(\"X_valid shape:\")\n",
        "print(X_valid.shape)\n",
        "print(\"y_valid shape:\")\n",
        "print(y_valid.shape)"
      ],
      "metadata": {
        "colab": {
          "base_uri": "https://localhost:8080/"
        },
        "id": "TFvXHUBPynvS",
        "outputId": "781ed43a-9976-4119-d6c6-7ae2a7660e3f"
      },
      "execution_count": null,
      "outputs": [
        {
          "output_type": "stream",
          "name": "stdout",
          "text": [
            "X_train shape:\n",
            "(107800, 28, 28)\n",
            "y_train shape:\n",
            "(107800,)\n",
            "X_valid shape:\n",
            "(5000, 28, 28)\n",
            "y_valid shape:\n",
            "(5000,)\n"
          ]
        }
      ]
    },
    {
      "cell_type": "code",
      "source": [
        "import matplotlib.pyplot as plt\n",
        "\n",
        "def create_emnist_balanced_mapping():\n",
        "    mapping = {}\n",
        "\n",
        "    # Mapping for digits (0-9)\n",
        "    for i in range(10):\n",
        "        mapping[i] = chr(i + 48)  # ASCII codes for '0' to '9' are 48 to 57\n",
        "\n",
        "    # Mapping for uppercase letters (A-Z), excluding some\n",
        "    for i in range(10, 36):\n",
        "        mapping[i] = chr(i + 55)  # ASCII codes for 'A' to 'Z' are 65 to 90\n",
        "\n",
        "    # Custom mapping for lowercase letters\n",
        "    custom_lower = [97, 98, 100, 101, 102, 103, 104, 110, 113, 114, 116]\n",
        "    for i, ascii_code in enumerate(custom_lower, start=36):\n",
        "        mapping[i] = chr(ascii_code)\n",
        "\n",
        "    return mapping\n",
        "\n",
        "# Create the mapping\n",
        "emnist_classes = create_emnist_balanced_mapping()\n",
        "\n",
        "# Check some data for correct mapping\n",
        "num = 6\n",
        "print(y_test_full[num])\n",
        "plt.imshow(X_test[num])\n",
        "print(emnist_classes[y_test_full[num]])"
      ],
      "metadata": {
        "colab": {
          "base_uri": "https://localhost:8080/",
          "height": 466
        },
        "id": "lVe810hOyyva",
        "outputId": "22795c43-e1fc-4e64-b11a-80f9c0ee0330"
      },
      "execution_count": null,
      "outputs": [
        {
          "output_type": "stream",
          "name": "stdout",
          "text": [
            "14\n",
            "E\n"
          ]
        },
        {
          "output_type": "display_data",
          "data": {
            "text/plain": [
              "<Figure size 640x480 with 1 Axes>"
            ],
            "image/png": "[encoded data removed]"
          },
          "metadata": {}
        }
      ]
    },
    {
      "cell_type": "markdown",
      "source": [
        "# Convolutional model"
      ],
      "metadata": {
        "id": "rks8wGn-qt1s"
      }
    },
    {
      "cell_type": "code",
      "source": [
        "import sys\n",
        "if \"google.colab\" in sys.modules:\n",
        "  %pip install -q -U keras_tuner\n",
        "\n",
        "import keras_tuner as kt\n",
        "import tensorflow as tf\n",
        "\n",
        "def build_model(hp):\n",
        "  n_conv_layers = hp.Int(\"n_conv_layers\", min_value=1, max_value=4, default=1)\n",
        "  n_dense_neurons = hp.Int(\"n_dense_neurons\", min_value=32, max_value=512, step=32)\n",
        "  n_kernel_size = hp.Int(\"n_kernel_size\", min_value=2, max_value=6, step=2)\n",
        "\n",
        "  model = tf.keras.models.Sequential()\n",
        "\n",
        "  model.add(tf.keras.layers.Input(shape=(28,28,1)))\n",
        "  for _ in range(n_conv_layers):\n",
        "    nks = n_kernel_size\n",
        "    model.add(tf.keras.layers.Conv2D(kernel_size=(nks,nks), strides=(1,1), filters=32, activation='relu'))\n",
        "  model.add(tf.keras.layers.Flatten())\n",
        "  model.add(tf.keras.layers.Dense(n_dense_neurons, activation=\"relu\"))\n",
        "  model.add(tf.keras.layers.Dense(len(emnist_classes), activation=\"softmax\"))\n",
        "\n",
        "  model.compile(loss=tf.keras.losses.SparseCategoricalCrossentropy(),\n",
        "              optimizer=tf.keras.optimizers.SGD(learning_rate=0.001),\n",
        "              metrics=[\"accuracy\"])\n",
        "  return model"
      ],
      "metadata": {
        "id": "WvXht4106g9z"
      },
      "execution_count": null,
      "outputs": []
    },
    {
      "cell_type": "code",
      "source": [
        "bo_tuner = kt.BayesianOptimization(build_model, objective=\"val_accuracy\", max_trials=50, seed=123, directory=\"ECBT\", project_name=\"emnist_conv_bo_tuner\")\n",
        "bo_tuner.search(X_train, y_train, epochs=20, validation_data=(X_valid, y_valid))"
      ],
      "metadata": {
        "colab": {
          "base_uri": "https://localhost:8080/"
        },
        "id": "xWUo8MnX9I7m",
        "outputId": "593d8945-0c55-4686-f31c-7f78607734af"
      },
      "execution_count": null,
      "outputs": [
        {
          "output_type": "stream",
          "name": "stdout",
          "text": [
            "Trial 5 Complete [00h 07m 23s]\n",
            "val_accuracy: 0.8579999804496765\n",
            "\n",
            "Best val_accuracy So Far: 0.8611999750137329\n",
            "Total elapsed time: 00h 35m 56s\n",
            "\n",
            "Search: Running Trial #6\n",
            "\n",
            "Value             |Best Value So Far |Hyperparameter\n",
            "1                 |3                 |n_conv_layers\n",
            "32                |32                |n_dense_neurons\n",
            "6                 |6                 |n_kernel_size\n",
            "\n",
            "Epoch 1/20\n",
            "3369/3369 [==============================] - 15s 4ms/step - loss: 3.6297 - accuracy: 0.0813 - val_loss: 3.2384 - val_accuracy: 0.1666\n",
            "Epoch 2/20\n",
            "3369/3369 [==============================] - 13s 4ms/step - loss: 2.5567 - accuracy: 0.3209 - val_loss: 1.7152 - val_accuracy: 0.5380\n",
            "Epoch 3/20\n",
            "3369/3369 [==============================] - 13s 4ms/step - loss: 1.2153 - accuracy: 0.6522 - val_loss: 0.9865 - val_accuracy: 0.7232\n",
            "Epoch 4/20\n",
            "3369/3369 [==============================] - 13s 4ms/step - loss: 0.8086 - accuracy: 0.7597 - val_loss: 0.7898 - val_accuracy: 0.7596\n",
            "Epoch 5/20\n",
            "3369/3369 [==============================] - 13s 4ms/step - loss: 0.6692 - accuracy: 0.7936 - val_loss: 0.7213 - val_accuracy: 0.7858\n",
            "Epoch 6/20\n",
            "3369/3369 [==============================] - 14s 4ms/step - loss: 0.5891 - accuracy: 0.8149 - val_loss: 0.6722 - val_accuracy: 0.8000\n",
            "Epoch 7/20\n",
            "2787/3369 [=======================>......] - ETA: 2s - loss: 0.5360 - accuracy: 0.8278"
          ]
        }
      ]
    },
    {
      "cell_type": "code",
      "source": [
        "best_trial = bo_tuner.oracle.get_best_trials(num_trials=1)[0]\n",
        "best_trial.summary()"
      ],
      "metadata": {
        "id": "E8yRvrQDAAQg"
      },
      "execution_count": null,
      "outputs": []
    },
    {
      "cell_type": "code",
      "source": [
        "best_model = bo_tuner.get_best_models(num_models=1)[0]\n",
        "best_model.evaluate(X_test, y_test_full)\n",
        "\n",
        "#history = model.fit(X_train, y_train, batch_size=16, epochs=20, validation_data=(X_valid, y_valid))"
      ],
      "metadata": {
        "id": "fsXz2q6ROTMG"
      },
      "execution_count": null,
      "outputs": []
    },
    {
      "cell_type": "code",
      "source": [
        "import pandas as pd\n",
        "pd.DataFrame(best_model.history).plot(figsize=(8, 5))\n",
        "plt.grid(True)\n",
        "plt.gca().set_xlim(0, 19)\n",
        "plt.gca().set_ylim(0, 1)\n",
        "plt.show()"
      ],
      "metadata": {
        "id": "1oIqcwOrgdGR"
      },
      "execution_count": null,
      "outputs": []
    },
    {
      "cell_type": "code",
      "source": [
        "from math import sqrt\n",
        "from sklearn.metrics import mean_squared_error, mean_absolute_error\n",
        "\n",
        "y_pred = best_model.predict(X_test)\n",
        "y_test_one_hot = np.eye(len(emnist_classes))[y_test_full]\n",
        "\n",
        "#print(y_pred)\n",
        "#print(y_test_one_hot)\n",
        "\n",
        "mse = mean_squared_error(y_test_one_hot, y_pred)\n",
        "rmse = sqrt(mse)\n",
        "mae = mean_absolute_error(y_test_one_hot, y_pred)\n",
        "print(f'MSE: {mse} | RMSE: {rmse} | MAE: {mae}')"
      ],
      "metadata": {
        "id": "GQFMVYCD30dX"
      },
      "execution_count": null,
      "outputs": []
    }
  ]
}